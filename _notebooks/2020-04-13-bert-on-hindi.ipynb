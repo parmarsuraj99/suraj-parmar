{
  "nbformat": 4,
  "nbformat_minor": 0,
  "metadata": {
    "colab": {
      "name": "bert-on-hindi.ipynb",
      "provenance": [],
      "collapsed_sections": [],
      "toc_visible": true,
      "authorship_tag": "ABX9TyMKN1hCOKbKriQB9X0wTtr5",
      "include_colab_link": true
    },
    "kernelspec": {
      "name": "python3",
      "display_name": "Python 3"
    }
  },
  "cells": [
    {
      "cell_type": "markdown",
      "metadata": {
        "id": "view-in-github",
        "colab_type": "text"
      },
      "source": [
        "<a href=\"https://colab.research.google.com/github/parmarsuraj99/suraj-parmar/blob/master/_notebooks/2020-04-13-bert-on-hindi.ipynb\" target=\"_parent\"><img src=\"https://colab.research.google.com/assets/colab-badge.svg\" alt=\"Open In Colab\"/></a>"
      ]
    },
    {
      "cell_type": "markdown",
      "metadata": {
        "id": "P3DrcUKuhAbI",
        "colab_type": "text"
      },
      "source": [
        "# \"BERT training for Hindi\"\n",
        "> \"I was exploring BERT for Indian regional languages. Starting with Hindi\"\n",
        "\n",
        "- toc:true- branch: master- badges: true- comments: true\n",
        "- author: Suraj Parmar\n",
        "- categories: [fastpages, colab, NLP, Hindi]"
      ]
    },
    {
      "cell_type": "code",
      "metadata": {
        "id": "kvL9O8JuCV_e",
        "colab_type": "code",
        "colab": {}
      },
      "source": [
        "!pip install transformers"
      ],
      "execution_count": 0,
      "outputs": []
    },
    {
      "cell_type": "markdown",
      "metadata": {
        "id": "VUC1EY4RGHHk",
        "colab_type": "text"
      },
      "source": [
        "I am following this guide from Huggingface blog [how-to-train](https://huggingface.co/blog/how-to-train). They have eexplained how to train a model from scratch. The Language in the blog is "
      ]
    },
    {
      "cell_type": "markdown",
      "metadata": {
        "id": "dfZSDucZG9hM",
        "colab_type": "text"
      },
      "source": [
        "I will be experimenting with different tokenizers available in HuggingFace's tokenizer library."
      ]
    },
    {
      "cell_type": "code",
      "metadata": {
        "id": "QK4SCFS699E6",
        "colab_type": "code",
        "colab": {}
      },
      "source": [
        "import os\n",
        "from tokenizers import (ByteLevelBPETokenizer,\n",
        "                            CharBPETokenizer,\n",
        "                            SentencePieceBPETokenizer,\n",
        "                            BertWordPieceTokenizer)"
      ],
      "execution_count": 0,
      "outputs": []
    },
    {
      "cell_type": "code",
      "metadata": {
        "id": "Fml1l72LLrXn",
        "colab_type": "code",
        "colab": {}
      },
      "source": [
        ""
      ],
      "execution_count": 0,
      "outputs": []
    },
    {
      "cell_type": "markdown",
      "metadata": {
        "id": "MNwmiHVBLsc4",
        "colab_type": "text"
      },
      "source": [
        "# **ByteLevelBPETokenizer**"
      ]
    },
    {
      "cell_type": "code",
      "metadata": {
        "id": "tQIs4yQSBssa",
        "colab_type": "code",
        "colab": {}
      },
      "source": [
        "tokenizer = ByteLevelBPETokenizer()\n",
        "tokenizer.train(\"Geeta.txt\", vocab_size=20000, special_tokens=[\n",
        "    \"<s>\",\n",
        "    \"<pad>\",\n",
        "    \"</s>\",\n",
        "    \"<unk>\",\n",
        "    \"<mask>\",\n",
        "])\n",
        "tokenizer_type = \"ByteLevelBPETokenizer\""
      ],
      "execution_count": 0,
      "outputs": []
    },
    {
      "cell_type": "code",
      "metadata": {
        "id": "gIMNGFIsBsjW",
        "colab_type": "code",
        "outputId": "1cbac54d-829f-4058-f722-a4faabc1e534",
        "colab": {
          "base_uri": "https://localhost:8080/",
          "height": 54
        }
      },
      "source": [
        "if not os.path.isdir(f\"/content/{tokenizer_type}\"):\n",
        "    os.mkdir(tokenizer_type)\n",
        "tokenizer.save(f\"{tokenizer_type}/\", f\"hindi{tokenizer_type}\")"
      ],
      "execution_count": 7,
      "outputs": [
        {
          "output_type": "execute_result",
          "data": {
            "text/plain": [
              "['ByteLevelBPETokenizer/hindiByteLevelBPETokenizer-vocab.json',\n",
              " 'ByteLevelBPETokenizer/hindiByteLevelBPETokenizer-merges.txt']"
            ]
          },
          "metadata": {
            "tags": []
          },
          "execution_count": 7
        }
      ]
    },
    {
      "cell_type": "code",
      "metadata": {
        "id": "7r8I3OgGGvu9",
        "colab_type": "code",
        "outputId": "bd8e7693-eb2d-4abe-e6bb-43fa51e5f0c2",
        "colab": {
          "base_uri": "https://localhost:8080/",
          "height": 256
        }
      },
      "source": [
        "vocab_= open(f\"{tokenizer_type}/hindi{tokenizer_type}-vocab.json\",\"r\")\n",
        "merges_ = open(f\"{tokenizer_type}/hindi{tokenizer_type}-merges.txt\",\"r\")\n",
        "\n",
        "print(\"VOCAB:\", vocab_.read()[2100:2200])\n",
        "print(\"Merges:\", merges_.read(100))\n",
        "\n",
        "vocab_.close()\n",
        "merges_.close()"
      ],
      "execution_count": 10,
      "outputs": [
        {
          "output_type": "stream",
          "text": [
            "VOCAB: \":271,\"à¤¨\":272,\"Ġà¥\":273,\"à¤µ\":274,\"à¥ĩ\":275,\"à¤¸\":276,\"à¤Ĥ\":277,\"à¥ģ\":278,\"à¤¦\":279,\"à¥ĭ\":280,\"ĠĠ\"\n",
            "Merges: #version: 0.2 - Trained by `huggingface/tokenizers`\n",
            "à ¤\n",
            "à ¥\n",
            "à¥ į\n",
            "Ġ à¤\n",
            "à¤ ¾\n",
            "à¤ ¤\n",
            "à¤ °\n",
            "à¤ ¿\n",
            "à¤ ¯\n",
            "č Ċ\n",
            "à\n"
          ],
          "name": "stdout"
        }
      ]
    },
    {
      "cell_type": "code",
      "metadata": {
        "id": "2DYdTTwpNHae",
        "colab_type": "code",
        "colab": {}
      },
      "source": [
        "#Feel free to play with the outputs\n",
        "outputs = tokenizer.encode(\"रामायण एक संस्कृत महाकाव्य है जिसकी रचना महर्षि वाल्मीकि ने की थी।\")"
      ],
      "execution_count": 0,
      "outputs": []
    },
    {
      "cell_type": "code",
      "metadata": {
        "id": "yreCaXjoNL-Q",
        "colab_type": "code",
        "outputId": "2e0609db-fd6b-4a93-dc17-f23c0dba58dc",
        "colab": {
          "base_uri": "https://localhost:8080/",
          "height": 458
        }
      },
      "source": [
        "outputs.ids"
      ],
      "execution_count": 0,
      "outputs": [
        {
          "output_type": "execute_result",
          "data": {
            "text/plain": [
              "[212,\n",
              " 146,\n",
              " 246,\n",
              " 174,\n",
              " 36,\n",
              " 73,\n",
              " 49,\n",
              " 194,\n",
              " 118,\n",
              " 436,\n",
              " 163,\n",
              " 40,\n",
              " 346,\n",
              " 388,\n",
              " 98,\n",
              " 144,\n",
              " 220,\n",
              " 366,\n",
              " 70,\n",
              " 36,\n",
              " 69,\n",
              " 164,\n",
              " 114,\n",
              " 258]"
            ]
          },
          "metadata": {
            "tags": []
          },
          "execution_count": 98
        }
      ]
    },
    {
      "cell_type": "code",
      "metadata": {
        "id": "ErFBYPpKNQA0",
        "colab_type": "code",
        "colab": {}
      },
      "source": [
        ""
      ],
      "execution_count": 0,
      "outputs": []
    },
    {
      "cell_type": "markdown",
      "metadata": {
        "id": "2eFQNqqTMGNr",
        "colab_type": "text"
      },
      "source": [
        "This doesn't seem good. Let's try other tokenizers"
      ]
    },
    {
      "cell_type": "markdown",
      "metadata": {
        "id": "CXGsVmO-L1f-",
        "colab_type": "text"
      },
      "source": [
        "# **CharBPETokenizer**"
      ]
    },
    {
      "cell_type": "code",
      "metadata": {
        "colab_type": "code",
        "id": "rSDBna8aLgSi",
        "colab": {}
      },
      "source": [
        "tokenizer = CharBPETokenizer()\n",
        "tokenizer.train(\"Geeta.txt\", vocab_size=20000)\n",
        "tokenizer_type = \"CharBPETokenizer\""
      ],
      "execution_count": 0,
      "outputs": []
    },
    {
      "cell_type": "code",
      "metadata": {
        "colab_type": "code",
        "outputId": "e530657c-c623-42d1-aab0-26802e8c06b9",
        "id": "Cc56O8tTLgS0",
        "colab": {
          "base_uri": "https://localhost:8080/",
          "height": 54
        }
      },
      "source": [
        "if not os.path.isdir(f\"/content/{tokenizer_type}\"):\n",
        "    os.mkdir(tokenizer_type)\n",
        "tokenizer.save(f\"{tokenizer_type}/\", f\"hindi{tokenizer_type}\")"
      ],
      "execution_count": 12,
      "outputs": [
        {
          "output_type": "execute_result",
          "data": {
            "text/plain": [
              "['CharBPETokenizer/hindiCharBPETokenizer-vocab.json',\n",
              " 'CharBPETokenizer/hindiCharBPETokenizer-merges.txt']"
            ]
          },
          "metadata": {
            "tags": []
          },
          "execution_count": 12
        }
      ]
    },
    {
      "cell_type": "code",
      "metadata": {
        "colab_type": "code",
        "outputId": "69dcd2a4-1064-4f8b-fc1a-931ade2af712",
        "id": "_fOL66zCLgS-",
        "colab": {
          "base_uri": "https://localhost:8080/",
          "height": 274
        }
      },
      "source": [
        "vocab_= open(f\"{tokenizer_type}/hindi{tokenizer_type}-vocab.json\",\"r\")\n",
        "merges_ = open(f\"{tokenizer_type}/hindi{tokenizer_type}-merges.txt\",\"r\")\n",
        "\n",
        "print(\"VOCAB:\", vocab_.read()[2100:2200])\n",
        "print(\"Merges:\", merges_.read(100))\n",
        "\n",
        "vocab_.close()\n",
        "merges_.close()"
      ],
      "execution_count": 13,
      "outputs": [
        {
          "output_type": "stream",
          "text": [
            "VOCAB: w>\":227,\"ानि</w>\":228,\"सि</w>\":229,\"९॥</w>\":230,\"वाच</w>\":231,\"दु\":232,\"०॥</w>\":233,\"च्छ\":234,\"मि\":2\n",
            "Merges: #version: 0.2 - Trained by `huggingface/tokenizers`\n",
            "् य\n",
            "् त\n",
            "् र\n",
            "र ्\n",
            "ा न\n",
            "त ्\n",
            "व ि\n",
            "स ्\n",
            "द ्\n",
            "प ्र\n",
            "म ा\n",
            "ि त\n"
          ],
          "name": "stdout"
        }
      ]
    },
    {
      "cell_type": "code",
      "metadata": {
        "colab_type": "code",
        "id": "wbx3TPWRM7YD",
        "colab": {}
      },
      "source": [
        "#Feel free to play with the outputs\n",
        "outputs = tokenizer.encode(\"रामायण एक संस्कृत महाकाव्य है जिसकी रचना महर्षि वाल्मीकि ने की थी।\")"
      ],
      "execution_count": 0,
      "outputs": []
    },
    {
      "cell_type": "code",
      "metadata": {
        "id": "3tdWdxY3GdVw",
        "colab_type": "code",
        "colab": {}
      },
      "source": [
        ""
      ],
      "execution_count": 0,
      "outputs": []
    },
    {
      "cell_type": "markdown",
      "metadata": {
        "colab_type": "text",
        "id": "bqVht7BRMcMn"
      },
      "source": [
        "# **SentencePieceBPETokenizer**"
      ]
    },
    {
      "cell_type": "code",
      "metadata": {
        "colab_type": "code",
        "id": "58Mry3nMMcMr",
        "colab": {}
      },
      "source": [
        "tokenizer = SentencePieceBPETokenizer()\n",
        "tokenizer.train(\"Geeta.txt\", vocab_size=20000)\n",
        "tokenizer_type = \"SentencePieceBPETokenizer\""
      ],
      "execution_count": 0,
      "outputs": []
    },
    {
      "cell_type": "code",
      "metadata": {
        "colab_type": "code",
        "outputId": "3f9b1cb9-bc91-412e-fc20-8f139c2aeb9d",
        "id": "lB4vGf3_McM6",
        "colab": {
          "base_uri": "https://localhost:8080/",
          "height": 54
        }
      },
      "source": [
        "if not os.path.isdir(f\"/content/{tokenizer_type}\"):\n",
        "    os.mkdir(tokenizer_type)\n",
        "tokenizer.save(f\"{tokenizer_type}/\", f\"hindi{tokenizer_type}\")"
      ],
      "execution_count": 16,
      "outputs": [
        {
          "output_type": "execute_result",
          "data": {
            "text/plain": [
              "['SentencePieceBPETokenizer/hindiSentencePieceBPETokenizer-vocab.json',\n",
              " 'SentencePieceBPETokenizer/hindiSentencePieceBPETokenizer-merges.txt']"
            ]
          },
          "metadata": {
            "tags": []
          },
          "execution_count": 16
        }
      ]
    },
    {
      "cell_type": "code",
      "metadata": {
        "colab_type": "code",
        "outputId": "2a85be74-7a15-48fe-a3fd-d542c844955a",
        "id": "jWO85C3zMcNE",
        "colab": {
          "base_uri": "https://localhost:8080/",
          "height": 293
        }
      },
      "source": [
        "vocab_= open(f\"{tokenizer_type}/hindi{tokenizer_type}-vocab.json\",\"r\")\n",
        "merges_ = open(f\"{tokenizer_type}/hindi{tokenizer_type}-merges.txt\",\"r\")\n",
        "\n",
        "print(\"VOCAB:\", vocab_.read()[2100:2200])\n",
        "print(\"Merges:\", merges_.read(100))\n",
        "\n",
        "vocab_.close()\n",
        "merges_.close()"
      ],
      "execution_count": 17,
      "outputs": [
        {
          "output_type": "stream",
          "text": [
            "VOCAB: ुः\":244,\"ुण\":245,\"श्य\":246,\"▁सं\":247,\"▁११\":248,\"तः\":249,\"▁त्व\":250,\"ेद\":251,\"कर्म\":252,\"गव\":253,\"▁मह\n",
            "Merges: #version: 0.2 - Trained by `huggingface/tokenizers`\n",
            "् य\n",
            "् त\n",
            "् र\n",
            "र ्\n",
            "▁ ।\n",
            "▁ स\n",
            "▁ ॥\n",
            "ा न\n",
            "▁ प\n",
            "् व\n",
            "▁ त\n",
            "▁ म\n",
            "\n"
          ],
          "name": "stdout"
        }
      ]
    },
    {
      "cell_type": "code",
      "metadata": {
        "id": "gVdMKCW9GdTx",
        "colab_type": "code",
        "colab": {}
      },
      "source": [
        "#Feel free to play with the outputs\n",
        "outputs = tokenizer.encode(\"रामायण एक संस्कृत महाकाव्य है जिसकी रचना महर्षि वाल्मीकि ने की थी।\")"
      ],
      "execution_count": 0,
      "outputs": []
    },
    {
      "cell_type": "code",
      "metadata": {
        "id": "GDKSUR_0M-D3",
        "colab_type": "code",
        "colab": {}
      },
      "source": [
        ""
      ],
      "execution_count": 0,
      "outputs": []
    },
    {
      "cell_type": "markdown",
      "metadata": {
        "colab_type": "text",
        "id": "oZwYJtWIM1jG"
      },
      "source": [
        "# **BertWordPieceTokenizer**"
      ]
    },
    {
      "cell_type": "code",
      "metadata": {
        "colab_type": "code",
        "id": "cBhA63VsM1jK",
        "colab": {}
      },
      "source": [
        "tokenizer = BertWordPieceTokenizer()\n",
        "tokenizer.train(\"Geeta.txt\", vocab_size=20000)\n",
        "tokenizer_type = \"BertWordPieceTokenizer\""
      ],
      "execution_count": 0,
      "outputs": []
    },
    {
      "cell_type": "code",
      "metadata": {
        "colab_type": "code",
        "outputId": "54a973df-8dc9-4a7f-ad51-ffd195af350e",
        "id": "A1qkYNlHM1jU",
        "colab": {
          "base_uri": "https://localhost:8080/",
          "height": 35
        }
      },
      "source": [
        "if not os.path.isdir(f\"/content/{tokenizer_type}\"):\n",
        "    os.mkdir(tokenizer_type)\n",
        "tokenizer.save(f\"{tokenizer_type}/\", f\"hindi{tokenizer_type}\")"
      ],
      "execution_count": 21,
      "outputs": [
        {
          "output_type": "execute_result",
          "data": {
            "text/plain": [
              "['BertWordPieceTokenizer/hindiBertWordPieceTokenizer-vocab.txt']"
            ]
          },
          "metadata": {
            "tags": []
          },
          "execution_count": 21
        }
      ]
    },
    {
      "cell_type": "code",
      "metadata": {
        "colab_type": "code",
        "id": "Tfsd0A4SM1jf",
        "colab": {
          "base_uri": "https://localhost:8080/",
          "height": 568
        },
        "outputId": "3a79a0ce-d4ba-46ab-be05-e873cf33c4fe"
      },
      "source": [
        "vocab_= open(f\"{tokenizer_type}/hindi{tokenizer_type}-vocab.txt\",\"r\")\n",
        "print(\"VOCAB:\", vocab_.read()[150:250])\n",
        "vocab_.close()"
      ],
      "execution_count": 22,
      "outputs": [
        {
          "output_type": "stream",
          "text": [
            "VOCAB: \n",
            "२\n",
            "३\n",
            "४\n",
            "५\n",
            "६\n",
            "७\n",
            "८\n",
            "९\n",
            "##ि\n",
            "##न\n",
            "##य\n",
            "##म\n",
            "##द\n",
            "##भ\n",
            "##क\n",
            "##त\n",
            "##ढ\n",
            "##ा\n",
            "##ः\n",
            "##र\n",
            "##थ\n",
            "##ी\n",
            "##ष\n",
            "##व\n",
            "##ो\n",
            "##ण\n",
            "##ह\n",
            "##च\n",
            "##प\n"
          ],
          "name": "stdout"
        }
      ]
    },
    {
      "cell_type": "markdown",
      "metadata": {
        "id": "F5qilEt8NxY6",
        "colab_type": "text"
      },
      "source": [
        "Looks like this works better than others"
      ]
    },
    {
      "cell_type": "markdown",
      "metadata": {
        "id": "FwsPhPjUhu8k",
        "colab_type": "text"
      },
      "source": [
        "I will be explaining this tokenizers in details in this blog! stay tuned. \n",
        "Stay Safe"
      ]
    },
    {
      "cell_type": "code",
      "metadata": {
        "id": "iZpeBj-TZ7ZD",
        "colab_type": "code",
        "colab": {}
      },
      "source": [
        ""
      ],
      "execution_count": 0,
      "outputs": []
    },
    {
      "cell_type": "code",
      "metadata": {
        "id": "NjwnyTttZ7WH",
        "colab_type": "code",
        "colab": {}
      },
      "source": [
        ""
      ],
      "execution_count": 0,
      "outputs": []
    },
    {
      "cell_type": "code",
      "metadata": {
        "id": "2uP3ByxjMs3u",
        "colab_type": "code",
        "colab": {}
      },
      "source": [
        ""
      ],
      "execution_count": 0,
      "outputs": []
    },
    {
      "cell_type": "code",
      "metadata": {
        "id": "xRGu_DodUb6L",
        "colab_type": "code",
        "colab": {}
      },
      "source": [
        ""
      ],
      "execution_count": 0,
      "outputs": []
    },
    {
      "cell_type": "code",
      "metadata": {
        "id": "RLoyQY3WUb3I",
        "colab_type": "code",
        "colab": {}
      },
      "source": [
        ""
      ],
      "execution_count": 0,
      "outputs": []
    }
  ]
}